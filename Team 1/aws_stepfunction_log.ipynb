{
 "cells": [
  {
   "cell_type": "markdown",
   "id": "05604c1e-69ea-4baf-a3b3-05d475f7b7bd",
   "metadata": {},
   "source": [
    "<span style=\"color:#1B65F1;font-weight:600;font-size:30px\"> \n",
    "CloudWatch Log Retrieval - Step Function CPU\n",
    "</span> <br>\n",
    "\n",
    "The following notebook assists with identifying relevant CloudWatch log items in relation to a Team's S3 Bucket Title. <br>\n",
    "The notebook will facilicate: <br>\n",
    "- Identifying Received lines related to our 'team-one-S3-cosmic' S3 Bucket. <br>\n",
    "- Search for the most relevant Request ID value affiliated with the World Size and Rank Received line.  <br>\n",
    "- Using the captured Request ID, will grab the appropriate REPORT RequestId performance metrics including Duration, Billed Duration, Memory Size, Max Memory Used, and Init Duration."
   ]
  },
  {
   "cell_type": "code",
   "execution_count": 2,
   "id": "46acf2c6-6e06-47ac-ad32-d49d36f13bf9",
   "metadata": {},
   "outputs": [],
   "source": [
    "import numpy as np\n",
    "import pandas as pd\n",
    "import math\n",
    "from datetime import datetime\n",
    "pd.set_option('max_colwidth', 300)"
   ]
  },
  {
   "cell_type": "code",
   "execution_count": 3,
   "id": "9f302e1c-9eb3-4fc3-b8c4-6bfd5889d27d",
   "metadata": {},
   "outputs": [],
   "source": [
    "## Load in Log\n",
    "step_function_logdata = pd.read_csv('Cosmic_AI_Logs/Trial_Two_logs-insights-results.csv')\n",
    "# step_function_logdata = pd.read_csv('Cosmic_AI_Logs/cw_log_25mb_10.csv')"
   ]
  },
  {
   "cell_type": "code",
   "execution_count": 6,
   "id": "f546436a-a8df-4592-be62-7f82a3b864b9",
   "metadata": {},
   "outputs": [
    {
     "name": "stdout",
     "output_type": "stream",
     "text": [
      "(370, 4)\n"
     ]
    },
    {
     "data": {
      "text/html": [
       "<div>\n",
       "<style scoped>\n",
       "    .dataframe tbody tr th:only-of-type {\n",
       "        vertical-align: middle;\n",
       "    }\n",
       "\n",
       "    .dataframe tbody tr th {\n",
       "        vertical-align: top;\n",
       "    }\n",
       "\n",
       "    .dataframe thead th {\n",
       "        text-align: right;\n",
       "    }\n",
       "</style>\n",
       "<table border=\"1\" class=\"dataframe\">\n",
       "  <thead>\n",
       "    <tr style=\"text-align: right;\">\n",
       "      <th></th>\n",
       "      <th>@timestamp</th>\n",
       "      <th>@message</th>\n",
       "      <th>@logStream</th>\n",
       "      <th>@log</th>\n",
       "    </tr>\n",
       "  </thead>\n",
       "  <tbody>\n",
       "    <tr>\n",
       "      <th>0</th>\n",
       "      <td>2024-11-26 16:25:14.565</td>\n",
       "      <td>END RequestId: fe5cfefb-6e98-4e56-9662-edc18841b3d1\\n</td>\n",
       "      <td>2024/11/26/[$LATEST]b70e567b847d48a384ba45fb45bbcb60</td>\n",
       "      <td>211125778552:/aws/lambda/cosmic-executor</td>\n",
       "    </tr>\n",
       "    <tr>\n",
       "      <th>1</th>\n",
       "      <td>2024-11-26 16:25:14.565</td>\n",
       "      <td>REPORT RequestId: fe5cfefb-6e98-4e56-9662-edc18841b3d1\\tDuration: 12606.91 ms\\tBilled Duration: 13836 ms\\tMemory Size: 10240 MB\\tMax Memory Used: 2865 MB\\tInit Duration: 1228.99 ms\\t\\n</td>\n",
       "      <td>2024/11/26/[$LATEST]b70e567b847d48a384ba45fb45bbcb60</td>\n",
       "      <td>211125778552:/aws/lambda/cosmic-executor</td>\n",
       "    </tr>\n",
       "  </tbody>\n",
       "</table>\n",
       "</div>"
      ],
      "text/plain": [
       "                @timestamp  \\\n",
       "0  2024-11-26 16:25:14.565   \n",
       "1  2024-11-26 16:25:14.565   \n",
       "\n",
       "                                                                                                                                                                                   @message  \\\n",
       "0                                                                                                                                     END RequestId: fe5cfefb-6e98-4e56-9662-edc18841b3d1\\n   \n",
       "1  REPORT RequestId: fe5cfefb-6e98-4e56-9662-edc18841b3d1\\tDuration: 12606.91 ms\\tBilled Duration: 13836 ms\\tMemory Size: 10240 MB\\tMax Memory Used: 2865 MB\\tInit Duration: 1228.99 ms\\t\\n   \n",
       "\n",
       "                                             @logStream  \\\n",
       "0  2024/11/26/[$LATEST]b70e567b847d48a384ba45fb45bbcb60   \n",
       "1  2024/11/26/[$LATEST]b70e567b847d48a384ba45fb45bbcb60   \n",
       "\n",
       "                                       @log  \n",
       "0  211125778552:/aws/lambda/cosmic-executor  \n",
       "1  211125778552:/aws/lambda/cosmic-executor  "
      ]
     },
     "execution_count": 6,
     "metadata": {},
     "output_type": "execute_result"
    }
   ],
   "source": [
    "## Review data\n",
    "print(step_function_logdata.shape)\n",
    "step_function_logdata[0:2]"
   ]
  },
  {
   "cell_type": "markdown",
   "id": "5d1cac30-bdfc-4806-acd2-d54d4ba7044f",
   "metadata": {},
   "source": [
    "### Searching for all Received records by World Size - Single Search"
   ]
  },
  {
   "cell_type": "code",
   "execution_count": 256,
   "id": "7eb15ada-e84e-4bd8-8198-4f44de2c100c",
   "metadata": {},
   "outputs": [
    {
     "data": {
      "text/html": [
       "<div>\n",
       "<style scoped>\n",
       "    .dataframe tbody tr th:only-of-type {\n",
       "        vertical-align: middle;\n",
       "    }\n",
       "\n",
       "    .dataframe tbody tr th {\n",
       "        vertical-align: top;\n",
       "    }\n",
       "\n",
       "    .dataframe thead th {\n",
       "        text-align: right;\n",
       "    }\n",
       "</style>\n",
       "<table border=\"1\" class=\"dataframe\">\n",
       "  <thead>\n",
       "    <tr style=\"text-align: right;\">\n",
       "      <th></th>\n",
       "      <th>@timestamp</th>\n",
       "      <th>@message</th>\n",
       "      <th>@logStream</th>\n",
       "      <th>@log</th>\n",
       "    </tr>\n",
       "  </thead>\n",
       "  <tbody>\n",
       "    <tr>\n",
       "      <th>2704</th>\n",
       "      <td>2024-11-21 19:00:56.811</td>\n",
       "      <td>received:  {'S3_BUCKET': 'team-one-s3-cosmic', 'S3_OBJECT_NAME': 'scripts/Anomaly Detection', 'SCRIPT': '/tmp/scripts/Anomaly Detection/Inference/inference_batch2048.py', 'S3_OBJECT_TYPE': 'folder', 'WORLD_SIZE': '1', 'RANK': '0', 'data_path': '/tmp/scripts/Anomaly Detection/Inference/resized_in...</td>\n",
       "      <td>2024/11/21/[$LATEST]67212cd480cc4910810e2ea6d98378a8</td>\n",
       "      <td>211125778552:/aws/lambda/cosmic-executor</td>\n",
       "    </tr>\n",
       "    <tr>\n",
       "      <th>2765</th>\n",
       "      <td>2024-11-21 18:52:45.187</td>\n",
       "      <td>received:  {'S3_BUCKET': 'team-one-s3-cosmic', 'S3_OBJECT_NAME': 'scripts/Anomaly Detection', 'SCRIPT': '/tmp/scripts/Anomaly Detection/Inference/inference_batch256.py', 'S3_OBJECT_TYPE': 'folder', 'WORLD_SIZE': '1', 'RANK': '0', 'data_path': '/tmp/scripts/Anomaly Detection/Inference/resized_inf...</td>\n",
       "      <td>2024/11/21/[$LATEST]e995e2ac936b4cb3b7d958ed3d184e33</td>\n",
       "      <td>211125778552:/aws/lambda/cosmic-executor</td>\n",
       "    </tr>\n",
       "    <tr>\n",
       "      <th>2822</th>\n",
       "      <td>2024-11-21 18:35:52.627</td>\n",
       "      <td>received:  {'S3_BUCKET': 'team-one-s3-cosmic', 'S3_OBJECT_NAME': 'scripts/Anomaly Detection', 'SCRIPT': '/tmp/scripts/Anomaly Detection/Inference/inference_batch1024.py', 'S3_OBJECT_TYPE': 'folder', 'WORLD_SIZE': '1', 'RANK': '0', 'data_path': '/tmp/scripts/Anomaly Detection/Inference/resized_in...</td>\n",
       "      <td>2024/11/21/[$LATEST]758b97adf2f246b4b20ecd184aa64889</td>\n",
       "      <td>211125778552:/aws/lambda/cosmic-executor</td>\n",
       "    </tr>\n",
       "    <tr>\n",
       "      <th>2976</th>\n",
       "      <td>2024-11-21 17:32:21.435</td>\n",
       "      <td>received:  {'S3_BUCKET': 'team-one-s3-cosmic', 'S3_OBJECT_NAME': 'scripts/Anomaly Detection', 'SCRIPT': '/tmp/scripts/Anomaly Detection/Inference/inference.py', 'S3_OBJECT_TYPE': 'folder', 'WORLD_SIZE': '1', 'RANK': '0', 'data_path': '/tmp/scripts/Anomaly Detection/Inference/resized_inference.pt...</td>\n",
       "      <td>2024/11/21/[$LATEST]1e7ea14e6f03408a9a185965570c0c1e</td>\n",
       "      <td>211125778552:/aws/lambda/cosmic-executor</td>\n",
       "    </tr>\n",
       "  </tbody>\n",
       "</table>\n",
       "</div>"
      ],
      "text/plain": [
       "                   @timestamp  \\\n",
       "2704  2024-11-21 19:00:56.811   \n",
       "2765  2024-11-21 18:52:45.187   \n",
       "2822  2024-11-21 18:35:52.627   \n",
       "2976  2024-11-21 17:32:21.435   \n",
       "\n",
       "                                                                                                                                                                                                                                                                                                         @message  \\\n",
       "2704  received:  {'S3_BUCKET': 'team-one-s3-cosmic', 'S3_OBJECT_NAME': 'scripts/Anomaly Detection', 'SCRIPT': '/tmp/scripts/Anomaly Detection/Inference/inference_batch2048.py', 'S3_OBJECT_TYPE': 'folder', 'WORLD_SIZE': '1', 'RANK': '0', 'data_path': '/tmp/scripts/Anomaly Detection/Inference/resized_in...   \n",
       "2765  received:  {'S3_BUCKET': 'team-one-s3-cosmic', 'S3_OBJECT_NAME': 'scripts/Anomaly Detection', 'SCRIPT': '/tmp/scripts/Anomaly Detection/Inference/inference_batch256.py', 'S3_OBJECT_TYPE': 'folder', 'WORLD_SIZE': '1', 'RANK': '0', 'data_path': '/tmp/scripts/Anomaly Detection/Inference/resized_inf...   \n",
       "2822  received:  {'S3_BUCKET': 'team-one-s3-cosmic', 'S3_OBJECT_NAME': 'scripts/Anomaly Detection', 'SCRIPT': '/tmp/scripts/Anomaly Detection/Inference/inference_batch1024.py', 'S3_OBJECT_TYPE': 'folder', 'WORLD_SIZE': '1', 'RANK': '0', 'data_path': '/tmp/scripts/Anomaly Detection/Inference/resized_in...   \n",
       "2976  received:  {'S3_BUCKET': 'team-one-s3-cosmic', 'S3_OBJECT_NAME': 'scripts/Anomaly Detection', 'SCRIPT': '/tmp/scripts/Anomaly Detection/Inference/inference.py', 'S3_OBJECT_TYPE': 'folder', 'WORLD_SIZE': '1', 'RANK': '0', 'data_path': '/tmp/scripts/Anomaly Detection/Inference/resized_inference.pt...   \n",
       "\n",
       "                                                @logStream  \\\n",
       "2704  2024/11/21/[$LATEST]67212cd480cc4910810e2ea6d98378a8   \n",
       "2765  2024/11/21/[$LATEST]e995e2ac936b4cb3b7d958ed3d184e33   \n",
       "2822  2024/11/21/[$LATEST]758b97adf2f246b4b20ecd184aa64889   \n",
       "2976  2024/11/21/[$LATEST]1e7ea14e6f03408a9a185965570c0c1e   \n",
       "\n",
       "                                          @log  \n",
       "2704  211125778552:/aws/lambda/cosmic-executor  \n",
       "2765  211125778552:/aws/lambda/cosmic-executor  \n",
       "2822  211125778552:/aws/lambda/cosmic-executor  \n",
       "2976  211125778552:/aws/lambda/cosmic-executor  "
      ]
     },
     "execution_count": 256,
     "metadata": {},
     "output_type": "execute_result"
    }
   ],
   "source": [
    "single_ws_filter = step_function_logdata[\n",
    "                    step_function_logdata['@message'].str.contains(\"'WORLD_SIZE': '1'\", na=False) &\n",
    "                   step_function_logdata['@message'].str.contains('team-one', na=False)  ] \n",
    "single_ws_filter"
   ]
  },
  {
   "cell_type": "raw",
   "id": "00b2e636-5d67-4303-8e6b-a849cb990249",
   "metadata": {},
   "source": [
    "index_sr = 2765\n",
    "step_function_logdata[index_sr-30:index_sr+30]"
   ]
  },
  {
   "cell_type": "markdown",
   "id": "a61eac7b-3f2d-48a9-8b02-9071977e6f7f",
   "metadata": {},
   "source": [
    "### Search Based on Request ID"
   ]
  },
  {
   "cell_type": "code",
   "execution_count": 7,
   "id": "63a99a8b-49e1-4504-a471-2f88ae62231e",
   "metadata": {},
   "outputs": [
    {
     "data": {
      "text/html": [
       "<div>\n",
       "<style scoped>\n",
       "    .dataframe tbody tr th:only-of-type {\n",
       "        vertical-align: middle;\n",
       "    }\n",
       "\n",
       "    .dataframe tbody tr th {\n",
       "        vertical-align: top;\n",
       "    }\n",
       "\n",
       "    .dataframe thead th {\n",
       "        text-align: right;\n",
       "    }\n",
       "</style>\n",
       "<table border=\"1\" class=\"dataframe\">\n",
       "  <thead>\n",
       "    <tr style=\"text-align: right;\">\n",
       "      <th></th>\n",
       "      <th>@timestamp</th>\n",
       "      <th>@message</th>\n",
       "      <th>@logStream</th>\n",
       "      <th>@log</th>\n",
       "    </tr>\n",
       "  </thead>\n",
       "  <tbody>\n",
       "    <tr>\n",
       "      <th>1</th>\n",
       "      <td>2024-11-26 16:25:14.565</td>\n",
       "      <td>REPORT RequestId: fe5cfefb-6e98-4e56-9662-edc18841b3d1\\tDuration: 12606.91 ms\\tBilled Duration: 13836 ms\\tMemory Size: 10240 MB\\tMax Memory Used: 2865 MB\\tInit Duration: 1228.99 ms\\t\\n</td>\n",
       "      <td>2024/11/26/[$LATEST]b70e567b847d48a384ba45fb45bbcb60</td>\n",
       "      <td>211125778552:/aws/lambda/cosmic-executor</td>\n",
       "    </tr>\n",
       "    <tr>\n",
       "      <th>12</th>\n",
       "      <td>2024-11-26 16:25:13.546</td>\n",
       "      <td>REPORT RequestId: 41ff7714-5c72-4d2d-b590-eeb2e59bd155\\tDuration: 11988.23 ms\\tBilled Duration: 12906 ms\\tMemory Size: 10240 MB\\tMax Memory Used: 2837 MB\\tInit Duration: 917.59 ms\\t\\n</td>\n",
       "      <td>2024/11/26/[$LATEST]a2b5a53d45b740318c41b607b9cf332d</td>\n",
       "      <td>211125778552:/aws/lambda/cosmic-executor</td>\n",
       "    </tr>\n",
       "    <tr>\n",
       "      <th>15</th>\n",
       "      <td>2024-11-26 16:25:13.423</td>\n",
       "      <td>REPORT RequestId: cf9234fb-b0d7-4f2c-959c-1bc359068478\\tDuration: 11855.42 ms\\tBilled Duration: 12796 ms\\tMemory Size: 10240 MB\\tMax Memory Used: 2852 MB\\tInit Duration: 939.67 ms\\t\\n</td>\n",
       "      <td>2024/11/26/[$LATEST]8b8c0cb0af6445308679d029d3ffd750</td>\n",
       "      <td>211125778552:/aws/lambda/cosmic-executor</td>\n",
       "    </tr>\n",
       "    <tr>\n",
       "      <th>18</th>\n",
       "      <td>2024-11-26 16:25:13.295</td>\n",
       "      <td>REPORT RequestId: 0670e1c6-fa0e-4f7a-a316-59f40e4ab621\\tDuration: 11571.60 ms\\tBilled Duration: 12602 ms\\tMemory Size: 10240 MB\\tMax Memory Used: 2820 MB\\tInit Duration: 1029.70 ms\\t\\n</td>\n",
       "      <td>2024/11/26/[$LATEST]36ccde0415e542988804388e07c76956</td>\n",
       "      <td>211125778552:/aws/lambda/cosmic-executor</td>\n",
       "    </tr>\n",
       "    <tr>\n",
       "      <th>21</th>\n",
       "      <td>2024-11-26 16:25:13.210</td>\n",
       "      <td>REPORT RequestId: eb680fee-a74a-42cc-a65d-21a592230318\\tDuration: 11782.33 ms\\tBilled Duration: 12574 ms\\tMemory Size: 10240 MB\\tMax Memory Used: 2850 MB\\tInit Duration: 791.44 ms\\t\\n</td>\n",
       "      <td>2024/11/26/[$LATEST]8292b50e9e77424fbb1a1c3f4d1a1c4e</td>\n",
       "      <td>211125778552:/aws/lambda/cosmic-executor</td>\n",
       "    </tr>\n",
       "    <tr>\n",
       "      <th>24</th>\n",
       "      <td>2024-11-26 16:25:12.986</td>\n",
       "      <td>REPORT RequestId: 489d2dd0-fca5-4531-abc8-66bb29b69972\\tDuration: 11651.44 ms\\tBilled Duration: 12395 ms\\tMemory Size: 10240 MB\\tMax Memory Used: 2866 MB\\tInit Duration: 743.29 ms\\t\\n</td>\n",
       "      <td>2024/11/26/[$LATEST]7026f6d7426c42d98404c36422bbf425</td>\n",
       "      <td>211125778552:/aws/lambda/cosmic-executor</td>\n",
       "    </tr>\n",
       "    <tr>\n",
       "      <th>27</th>\n",
       "      <td>2024-11-26 16:25:12.816</td>\n",
       "      <td>REPORT RequestId: 27f37f76-9d9c-4986-b4d5-a8787452694f\\tDuration: 11292.46 ms\\tBilled Duration: 12245 ms\\tMemory Size: 10240 MB\\tMax Memory Used: 2812 MB\\tInit Duration: 952.30 ms\\t\\n</td>\n",
       "      <td>2024/11/26/[$LATEST]09e8d0cdf7ef4e2bbe16c516fd9dc7ec</td>\n",
       "      <td>211125778552:/aws/lambda/cosmic-executor</td>\n",
       "    </tr>\n",
       "    <tr>\n",
       "      <th>38</th>\n",
       "      <td>2024-11-26 16:25:12.518</td>\n",
       "      <td>REPORT RequestId: 07c74476-9ae1-44c1-8dac-ecdcfd85ede7\\tDuration: 11198.84 ms\\tBilled Duration: 11956 ms\\tMemory Size: 10240 MB\\tMax Memory Used: 2839 MB\\tInit Duration: 756.54 ms\\t\\n</td>\n",
       "      <td>2024/11/26/[$LATEST]6b81c1b0e7024fd1a495e42573e61f77</td>\n",
       "      <td>211125778552:/aws/lambda/cosmic-executor</td>\n",
       "    </tr>\n",
       "    <tr>\n",
       "      <th>41</th>\n",
       "      <td>2024-11-26 16:25:12.496</td>\n",
       "      <td>REPORT RequestId: bc51b301-6c63-49fe-b988-72e32d8ffd80\\tDuration: 10250.95 ms\\tBilled Duration: 10951 ms\\tMemory Size: 10240 MB\\tMax Memory Used: 2826 MB\\tInit Duration: 699.97 ms\\t\\n</td>\n",
       "      <td>2024/11/26/[$LATEST]f061137c82494c2a852de8d426ba1a43</td>\n",
       "      <td>211125778552:/aws/lambda/cosmic-executor</td>\n",
       "    </tr>\n",
       "    <tr>\n",
       "      <th>76</th>\n",
       "      <td>2024-11-26 16:25:11.925</td>\n",
       "      <td>REPORT RequestId: fdc0b18f-4a45-4241-9dfa-bc637fca384f\\tDuration: 10603.46 ms\\tBilled Duration: 11291 ms\\tMemory Size: 10240 MB\\tMax Memory Used: 2843 MB\\tInit Duration: 686.71 ms\\t\\n</td>\n",
       "      <td>2024/11/26/[$LATEST]22a6446a6d05476297be7dfd28eaa743</td>\n",
       "      <td>211125778552:/aws/lambda/cosmic-executor</td>\n",
       "    </tr>\n",
       "  </tbody>\n",
       "</table>\n",
       "</div>"
      ],
      "text/plain": [
       "                 @timestamp  \\\n",
       "1   2024-11-26 16:25:14.565   \n",
       "12  2024-11-26 16:25:13.546   \n",
       "15  2024-11-26 16:25:13.423   \n",
       "18  2024-11-26 16:25:13.295   \n",
       "21  2024-11-26 16:25:13.210   \n",
       "24  2024-11-26 16:25:12.986   \n",
       "27  2024-11-26 16:25:12.816   \n",
       "38  2024-11-26 16:25:12.518   \n",
       "41  2024-11-26 16:25:12.496   \n",
       "76  2024-11-26 16:25:11.925   \n",
       "\n",
       "                                                                                                                                                                                    @message  \\\n",
       "1   REPORT RequestId: fe5cfefb-6e98-4e56-9662-edc18841b3d1\\tDuration: 12606.91 ms\\tBilled Duration: 13836 ms\\tMemory Size: 10240 MB\\tMax Memory Used: 2865 MB\\tInit Duration: 1228.99 ms\\t\\n   \n",
       "12   REPORT RequestId: 41ff7714-5c72-4d2d-b590-eeb2e59bd155\\tDuration: 11988.23 ms\\tBilled Duration: 12906 ms\\tMemory Size: 10240 MB\\tMax Memory Used: 2837 MB\\tInit Duration: 917.59 ms\\t\\n   \n",
       "15   REPORT RequestId: cf9234fb-b0d7-4f2c-959c-1bc359068478\\tDuration: 11855.42 ms\\tBilled Duration: 12796 ms\\tMemory Size: 10240 MB\\tMax Memory Used: 2852 MB\\tInit Duration: 939.67 ms\\t\\n   \n",
       "18  REPORT RequestId: 0670e1c6-fa0e-4f7a-a316-59f40e4ab621\\tDuration: 11571.60 ms\\tBilled Duration: 12602 ms\\tMemory Size: 10240 MB\\tMax Memory Used: 2820 MB\\tInit Duration: 1029.70 ms\\t\\n   \n",
       "21   REPORT RequestId: eb680fee-a74a-42cc-a65d-21a592230318\\tDuration: 11782.33 ms\\tBilled Duration: 12574 ms\\tMemory Size: 10240 MB\\tMax Memory Used: 2850 MB\\tInit Duration: 791.44 ms\\t\\n   \n",
       "24   REPORT RequestId: 489d2dd0-fca5-4531-abc8-66bb29b69972\\tDuration: 11651.44 ms\\tBilled Duration: 12395 ms\\tMemory Size: 10240 MB\\tMax Memory Used: 2866 MB\\tInit Duration: 743.29 ms\\t\\n   \n",
       "27   REPORT RequestId: 27f37f76-9d9c-4986-b4d5-a8787452694f\\tDuration: 11292.46 ms\\tBilled Duration: 12245 ms\\tMemory Size: 10240 MB\\tMax Memory Used: 2812 MB\\tInit Duration: 952.30 ms\\t\\n   \n",
       "38   REPORT RequestId: 07c74476-9ae1-44c1-8dac-ecdcfd85ede7\\tDuration: 11198.84 ms\\tBilled Duration: 11956 ms\\tMemory Size: 10240 MB\\tMax Memory Used: 2839 MB\\tInit Duration: 756.54 ms\\t\\n   \n",
       "41   REPORT RequestId: bc51b301-6c63-49fe-b988-72e32d8ffd80\\tDuration: 10250.95 ms\\tBilled Duration: 10951 ms\\tMemory Size: 10240 MB\\tMax Memory Used: 2826 MB\\tInit Duration: 699.97 ms\\t\\n   \n",
       "76   REPORT RequestId: fdc0b18f-4a45-4241-9dfa-bc637fca384f\\tDuration: 10603.46 ms\\tBilled Duration: 11291 ms\\tMemory Size: 10240 MB\\tMax Memory Used: 2843 MB\\tInit Duration: 686.71 ms\\t\\n   \n",
       "\n",
       "                                              @logStream  \\\n",
       "1   2024/11/26/[$LATEST]b70e567b847d48a384ba45fb45bbcb60   \n",
       "12  2024/11/26/[$LATEST]a2b5a53d45b740318c41b607b9cf332d   \n",
       "15  2024/11/26/[$LATEST]8b8c0cb0af6445308679d029d3ffd750   \n",
       "18  2024/11/26/[$LATEST]36ccde0415e542988804388e07c76956   \n",
       "21  2024/11/26/[$LATEST]8292b50e9e77424fbb1a1c3f4d1a1c4e   \n",
       "24  2024/11/26/[$LATEST]7026f6d7426c42d98404c36422bbf425   \n",
       "27  2024/11/26/[$LATEST]09e8d0cdf7ef4e2bbe16c516fd9dc7ec   \n",
       "38  2024/11/26/[$LATEST]6b81c1b0e7024fd1a495e42573e61f77   \n",
       "41  2024/11/26/[$LATEST]f061137c82494c2a852de8d426ba1a43   \n",
       "76  2024/11/26/[$LATEST]22a6446a6d05476297be7dfd28eaa743   \n",
       "\n",
       "                                        @log  \n",
       "1   211125778552:/aws/lambda/cosmic-executor  \n",
       "12  211125778552:/aws/lambda/cosmic-executor  \n",
       "15  211125778552:/aws/lambda/cosmic-executor  \n",
       "18  211125778552:/aws/lambda/cosmic-executor  \n",
       "21  211125778552:/aws/lambda/cosmic-executor  \n",
       "24  211125778552:/aws/lambda/cosmic-executor  \n",
       "27  211125778552:/aws/lambda/cosmic-executor  \n",
       "38  211125778552:/aws/lambda/cosmic-executor  \n",
       "41  211125778552:/aws/lambda/cosmic-executor  \n",
       "76  211125778552:/aws/lambda/cosmic-executor  "
      ]
     },
     "execution_count": 7,
     "metadata": {},
     "output_type": "execute_result"
    }
   ],
   "source": [
    "single_ws_filter = step_function_logdata[\n",
    "                    step_function_logdata['@message'].str.contains(\"REPORT RequestId\", na=False) ]\n",
    "single_ws_filter"
   ]
  },
  {
   "cell_type": "code",
   "execution_count": 8,
   "id": "3ca4c4f3-f490-4cd9-9fe5-ce11f7b5ee12",
   "metadata": {},
   "outputs": [
    {
     "name": "stdout",
     "output_type": "stream",
     "text": [
      "Index([1, 12, 15, 18, 21, 24, 27, 38, 41, 76], dtype='int64')\n"
     ]
    }
   ],
   "source": [
    "run_index_vals = single_ws_filter.index; print(run_index_vals)"
   ]
  },
  {
   "cell_type": "raw",
   "id": "de776c9f-66a1-4d9c-a09d-944a6bb974b7",
   "metadata": {},
   "source": [
    "single_ws_filter = step_function_logdata[\n",
    "                    step_function_logdata['@message'].str.contains(\"b9aa5c74-5ff2-4631-9e25-1d4e8bf749db\", na=False) ]\n",
    "single_ws_filter"
   ]
  },
  {
   "cell_type": "markdown",
   "id": "b9923eb4-d262-4abc-8133-0d24b902e7b1",
   "metadata": {},
   "source": [
    "<div style=\"border-top: 8px solid #16145b; margin-top: 10px; margin-bottom: 10px;\"></div>"
   ]
  },
  {
   "cell_type": "markdown",
   "id": "d6ccd64e-6c90-4a06-bf50-8bf9c17f9b81",
   "metadata": {},
   "source": [
    "<span style=\"color:#1B65F1;font-weight:550;font-size:26px\"> \n",
    "Result Retrievel from Multiple Executions\n",
    "</span> <br>\n",
    "Use the following code to capture all results related to a single WS."
   ]
  },
  {
   "cell_type": "code",
   "execution_count": 268,
   "id": "21d87718-bd37-4e84-8a19-73d15bc1cad6",
   "metadata": {},
   "outputs": [],
   "source": [
    "# Search parameters\n",
    "world_sizes = [1]\n",
    "bucket_name = 'team-one-s3-cosmic'"
   ]
  },
  {
   "cell_type": "code",
   "execution_count": 311,
   "id": "29fcbfb1-ee3c-40bc-8633-f708c41e486e",
   "metadata": {},
   "outputs": [
    {
     "name": "stdout",
     "output_type": "stream",
     "text": [
      "Index([2704, 2765, 2822, 2976], dtype='int64')\n",
      " Received Index in run: 2704\n",
      " Received Index in run: 2765\n",
      " Received Index in run: 2822\n",
      " Received Index in run: 2976\n"
     ]
    }
   ],
   "source": [
    "report_results_dataframes = []\n",
    "for i in world_sizes:\n",
    "    ws_search_word = (f\"'WORLD_SIZE': '{i}'\")\n",
    "    # print(ws_search_word)\n",
    "    filtered_data = step_function_logdata[\n",
    "                    step_function_logdata['@message'].str.contains(ws_search_word, na=False) &\n",
    "                   step_function_logdata['@message'].str.contains(bucket_name, na=False)  ] \n",
    "    # print(filtered_data)\n",
    "    df_index_vals = filtered_data.index; print(df_index_vals)\n",
    "    \n",
    "    for ii in df_index_vals:\n",
    "        # print(filtered_data)\n",
    "        print(f' Received Index in run: {ii}')\n",
    "        received_text = filtered_data.loc[ii,'@message']  ; ### print(received_text) \n",
    "        \n",
    "        for index_plus_one in range(6):\n",
    "            new_index = ii - 3 + index_plus_one;  ### print(f' Next index: {new_index}')\n",
    "            row_text = step_function_logdata.loc[new_index]['@message'] ; ###print(row_text)\n",
    "            t_f = 'START RequestId:' in row_text ; ### print(t_f)\n",
    "            if t_f == True:\n",
    "                request_id_text = step_function_logdata.loc[new_index]['@message']\n",
    "                # print(request_id_text)\n",
    "                request_id = request_id_text.split(\"RequestId:\")[1].split()[0]\n",
    "                # print(request_id)\n",
    "                break\n",
    "            # else: \n",
    "            #     continue   \n",
    "        # print(filtered_data)\n",
    "        # print(filtered_data)\n",
    "        # print('check - say hi')\n",
    "        \n",
    "        report_data_temp = step_function_logdata[\n",
    "                        step_function_logdata['@message'].str.contains(request_id, na=False) &\n",
    "                       step_function_logdata['@message'].str.contains('REPORT RequestId:', na=False)  ] \n",
    "        report_data_temp = report_data_temp.iloc[:,[0,1]]\n",
    "        report_data_temp['inference_run'] = received_text\n",
    "        report_results_dataframes.append(report_data_temp)  # Append the DataFrame to the list\n",
    "\n",
    "        # print(f' Row to be added: {report_data_temp}')\n",
    "# filtered_data"
   ]
  },
  {
   "cell_type": "code",
   "execution_count": 312,
   "id": "81a1af40-4b45-40d8-ad2e-2b9a387e2f0a",
   "metadata": {},
   "outputs": [],
   "source": [
    "## Create single DF with all results. \n",
    "combined_results_df = pd.concat(report_results_dataframes, ignore_index=False)"
   ]
  },
  {
   "cell_type": "markdown",
   "id": "f6477dbb-8d1a-4357-a1b1-7c858e5fcfbd",
   "metadata": {},
   "source": [
    "### Results"
   ]
  },
  {
   "cell_type": "code",
   "execution_count": 313,
   "id": "eb551c37-9f6f-48df-bd9d-d6ad01167936",
   "metadata": {},
   "outputs": [
    {
     "name": "stdout",
     "output_type": "stream",
     "text": [
      "(4, 3)\n"
     ]
    },
    {
     "data": {
      "text/html": [
       "<div>\n",
       "<style scoped>\n",
       "    .dataframe tbody tr th:only-of-type {\n",
       "        vertical-align: middle;\n",
       "    }\n",
       "\n",
       "    .dataframe tbody tr th {\n",
       "        vertical-align: top;\n",
       "    }\n",
       "\n",
       "    .dataframe thead th {\n",
       "        text-align: right;\n",
       "    }\n",
       "</style>\n",
       "<table border=\"1\" class=\"dataframe\">\n",
       "  <thead>\n",
       "    <tr style=\"text-align: right;\">\n",
       "      <th></th>\n",
       "      <th>@timestamp</th>\n",
       "      <th>@message</th>\n",
       "      <th>inference_run</th>\n",
       "    </tr>\n",
       "  </thead>\n",
       "  <tbody>\n",
       "    <tr>\n",
       "      <th>2645</th>\n",
       "      <td>2024-11-21 19:01:03.245</td>\n",
       "      <td>REPORT RequestId: f623ffe3-78ed-4d0e-a9de-ac00b9e9d71c\\tDuration: 6434.80 ms\\tBilled Duration: 7381 ms\\tMemory Size: 10240 MB\\tMax Memory Used: 645 MB\\tInit Duration: 945.56 ms\\t\\n</td>\n",
       "      <td>received:  {'S3_BUCKET': 'team-one-s3-cosmic', 'S3_OBJECT_NAME': 'scripts/Anomaly Detection', 'SCRIPT': '/tmp/scripts/Anomaly Detection/Inference/inference_batch2048.py', 'S3_OBJECT_TYPE': 'folder', 'WORLD_SIZE': '1', 'RANK': '0', 'data_path': '/tmp/scripts/Anomaly Detection/Inference/resized_in...</td>\n",
       "    </tr>\n",
       "    <tr>\n",
       "      <th>2708</th>\n",
       "      <td>2024-11-21 18:52:57.067</td>\n",
       "      <td>REPORT RequestId: b9aa5c74-5ff2-4631-9e25-1d4e8bf749db\\tDuration: 11879.83 ms\\tBilled Duration: 12578 ms\\tMemory Size: 10240 MB\\tMax Memory Used: 1960 MB\\tInit Duration: 698.09 ms\\t\\n</td>\n",
       "      <td>received:  {'S3_BUCKET': 'team-one-s3-cosmic', 'S3_OBJECT_NAME': 'scripts/Anomaly Detection', 'SCRIPT': '/tmp/scripts/Anomaly Detection/Inference/inference_batch256.py', 'S3_OBJECT_TYPE': 'folder', 'WORLD_SIZE': '1', 'RANK': '0', 'data_path': '/tmp/scripts/Anomaly Detection/Inference/resized_inf...</td>\n",
       "    </tr>\n",
       "    <tr>\n",
       "      <th>2767</th>\n",
       "      <td>2024-11-21 18:36:05.587</td>\n",
       "      <td>REPORT RequestId: 6196cb66-f681-4f5f-8641-71cc5f8f7b04\\tDuration: 12960.20 ms\\tBilled Duration: 13967 ms\\tMemory Size: 10240 MB\\tMax Memory Used: 3350 MB\\tInit Duration: 1006.32 ms\\t\\n</td>\n",
       "      <td>received:  {'S3_BUCKET': 'team-one-s3-cosmic', 'S3_OBJECT_NAME': 'scripts/Anomaly Detection', 'SCRIPT': '/tmp/scripts/Anomaly Detection/Inference/inference_batch1024.py', 'S3_OBJECT_TYPE': 'folder', 'WORLD_SIZE': '1', 'RANK': '0', 'data_path': '/tmp/scripts/Anomaly Detection/Inference/resized_in...</td>\n",
       "    </tr>\n",
       "    <tr>\n",
       "      <th>2924</th>\n",
       "      <td>2024-11-21 17:32:32.226</td>\n",
       "      <td>REPORT RequestId: 394fd31e-ddb1-4746-aa70-7e3ac3c572eb\\tDuration: 10792.45 ms\\tBilled Duration: 11671 ms\\tMemory Size: 10240 MB\\tMax Memory Used: 2848 MB\\tInit Duration: 877.64 ms\\t\\n</td>\n",
       "      <td>received:  {'S3_BUCKET': 'team-one-s3-cosmic', 'S3_OBJECT_NAME': 'scripts/Anomaly Detection', 'SCRIPT': '/tmp/scripts/Anomaly Detection/Inference/inference.py', 'S3_OBJECT_TYPE': 'folder', 'WORLD_SIZE': '1', 'RANK': '0', 'data_path': '/tmp/scripts/Anomaly Detection/Inference/resized_inference.pt...</td>\n",
       "    </tr>\n",
       "  </tbody>\n",
       "</table>\n",
       "</div>"
      ],
      "text/plain": [
       "                   @timestamp  \\\n",
       "2645  2024-11-21 19:01:03.245   \n",
       "2708  2024-11-21 18:52:57.067   \n",
       "2767  2024-11-21 18:36:05.587   \n",
       "2924  2024-11-21 17:32:32.226   \n",
       "\n",
       "                                                                                                                                                                                      @message  \\\n",
       "2645      REPORT RequestId: f623ffe3-78ed-4d0e-a9de-ac00b9e9d71c\\tDuration: 6434.80 ms\\tBilled Duration: 7381 ms\\tMemory Size: 10240 MB\\tMax Memory Used: 645 MB\\tInit Duration: 945.56 ms\\t\\n   \n",
       "2708   REPORT RequestId: b9aa5c74-5ff2-4631-9e25-1d4e8bf749db\\tDuration: 11879.83 ms\\tBilled Duration: 12578 ms\\tMemory Size: 10240 MB\\tMax Memory Used: 1960 MB\\tInit Duration: 698.09 ms\\t\\n   \n",
       "2767  REPORT RequestId: 6196cb66-f681-4f5f-8641-71cc5f8f7b04\\tDuration: 12960.20 ms\\tBilled Duration: 13967 ms\\tMemory Size: 10240 MB\\tMax Memory Used: 3350 MB\\tInit Duration: 1006.32 ms\\t\\n   \n",
       "2924   REPORT RequestId: 394fd31e-ddb1-4746-aa70-7e3ac3c572eb\\tDuration: 10792.45 ms\\tBilled Duration: 11671 ms\\tMemory Size: 10240 MB\\tMax Memory Used: 2848 MB\\tInit Duration: 877.64 ms\\t\\n   \n",
       "\n",
       "                                                                                                                                                                                                                                                                                                    inference_run  \n",
       "2645  received:  {'S3_BUCKET': 'team-one-s3-cosmic', 'S3_OBJECT_NAME': 'scripts/Anomaly Detection', 'SCRIPT': '/tmp/scripts/Anomaly Detection/Inference/inference_batch2048.py', 'S3_OBJECT_TYPE': 'folder', 'WORLD_SIZE': '1', 'RANK': '0', 'data_path': '/tmp/scripts/Anomaly Detection/Inference/resized_in...  \n",
       "2708  received:  {'S3_BUCKET': 'team-one-s3-cosmic', 'S3_OBJECT_NAME': 'scripts/Anomaly Detection', 'SCRIPT': '/tmp/scripts/Anomaly Detection/Inference/inference_batch256.py', 'S3_OBJECT_TYPE': 'folder', 'WORLD_SIZE': '1', 'RANK': '0', 'data_path': '/tmp/scripts/Anomaly Detection/Inference/resized_inf...  \n",
       "2767  received:  {'S3_BUCKET': 'team-one-s3-cosmic', 'S3_OBJECT_NAME': 'scripts/Anomaly Detection', 'SCRIPT': '/tmp/scripts/Anomaly Detection/Inference/inference_batch1024.py', 'S3_OBJECT_TYPE': 'folder', 'WORLD_SIZE': '1', 'RANK': '0', 'data_path': '/tmp/scripts/Anomaly Detection/Inference/resized_in...  \n",
       "2924  received:  {'S3_BUCKET': 'team-one-s3-cosmic', 'S3_OBJECT_NAME': 'scripts/Anomaly Detection', 'SCRIPT': '/tmp/scripts/Anomaly Detection/Inference/inference.py', 'S3_OBJECT_TYPE': 'folder', 'WORLD_SIZE': '1', 'RANK': '0', 'data_path': '/tmp/scripts/Anomaly Detection/Inference/resized_inference.pt...  "
      ]
     },
     "execution_count": 313,
     "metadata": {},
     "output_type": "execute_result"
    }
   ],
   "source": [
    "print(combined_results_df.shape)\n",
    "combined_results_df.head()"
   ]
  },
  {
   "cell_type": "markdown",
   "id": "75af7025-51b4-4b6f-b45f-e52e172a7be0",
   "metadata": {},
   "source": [
    "### Query by individual ID"
   ]
  },
  {
   "cell_type": "code",
   "execution_count": 307,
   "id": "5751c25d-eb8b-440f-bfeb-86706a1818fa",
   "metadata": {},
   "outputs": [
    {
     "data": {
      "text/plain": [
       "@timestamp                                                                                                                                                                 2024-11-21 19:01:03.245\n",
       "@message      REPORT RequestId: f623ffe3-78ed-4d0e-a9de-ac00b9e9d71c\\tDuration: 6434.80 ms\\tBilled Duration: 7381 ms\\tMemory Size: 10240 MB\\tMax Memory Used: 645 MB\\tInit Duration: 945.56 ms\\t\\n\n",
       "@logStream                                                                                                                                    2024/11/21/[$LATEST]67212cd480cc4910810e2ea6d98378a8\n",
       "@log                                                                                                                                                      211125778552:/aws/lambda/cosmic-executor\n",
       "Name: 2645, dtype: object"
      ]
     },
     "execution_count": 307,
     "metadata": {},
     "output_type": "execute_result"
    }
   ],
   "source": [
    "step_function_logdata.loc[2645]"
   ]
  },
  {
   "cell_type": "markdown",
   "id": "1df2c67c-6922-4ab6-acac-116697fa849a",
   "metadata": {},
   "source": [
    "<div style=\"border-top: 8px solid #16145b; margin-top: 10px; margin-bottom: 10px;\"></div>"
   ]
  },
  {
   "cell_type": "markdown",
   "id": "e403c6b3-522f-4ca6-9f3b-2821f108de85",
   "metadata": {},
   "source": [
    "## Searching by Time"
   ]
  },
  {
   "cell_type": "raw",
   "id": "be91b8be-3c7c-4d4c-9232-a09f076685bf",
   "metadata": {},
   "source": [
    "## Turning Timestamp into Time Values using datetime64.\n",
    "step_function_logdata['timestamp'] = step_function_logdata['timestamp'].values.astype(dtype='datetime64[ms]') "
   ]
  },
  {
   "cell_type": "raw",
   "id": "c2f2659c-3143-4a36-8c0e-8d4be0e9272a",
   "metadata": {},
   "source": [
    "## Search for a particular World Size to get time identification.  Use bucket 'fmi-lambda-demo'...\n",
    "# df.query('message.str.contains(@substring1) and message.str.contains(@substring2)'\n",
    "search_words = \"WORLD_SIZE': '24'\"; bucket_name = 'fmi-lambda-demo'\n",
    "# aws_temp_pairdown = step_function_logdata.query('message.str.contains(\"|\".join(@search_words))') \n",
    "aws_temp_pairdown = step_function_logdata.query('message.str.contains(@search_words) and message.str.contains(@bucket_name)') \n",
    "aws_temp_pairdown.sort_values(by='timestamp', ascending = False)"
   ]
  },
  {
   "cell_type": "markdown",
   "id": "7dfe24b6-5704-401f-b2f4-d791f627eb56",
   "metadata": {},
   "source": [
    "### Use the time labels above to isolate the records for that particular execution. "
   ]
  },
  {
   "cell_type": "raw",
   "id": "750beec5-9c04-4247-9da2-276f13594d3a",
   "metadata": {},
   "source": [
    "## Set Hour, Minute and Seconds to filter for related records and grab RequestID...\n",
    "start_rec = ['START', 'S3_BUCKET']\n",
    "hr_sr = 23; min_sr = 13; sec_sr = 10\n",
    "## Filter for time\n",
    "time_filtered_df = step_function_logdata[(step_function_logdata['timestamp'].dt.hour == hr_sr) & \n",
    "    (step_function_logdata['timestamp'].dt.minute == min_sr) & \n",
    "    (step_function_logdata['timestamp'].dt.second == sec_sr)\n",
    "    # (step_function_logdata['timestamp'].dt.microsecond == .7) ]   ### Can't figure out Microseconds!\n",
    "]\n",
    "time_filtered_df.query('message.str.contains(\"|\".join(@start_rec))')  ## 2nd Filter for the rows we're targeting.\n",
    "# time_filtered_df"
   ]
  },
  {
   "cell_type": "markdown",
   "id": "65489ba5-fc3e-4af3-ad44-0dd1c4574f88",
   "metadata": {},
   "source": [
    "### Using the RequestId, you can query certain executions by Rank and observe the performance metrics. "
   ]
  },
  {
   "cell_type": "raw",
   "id": "7b2ace8e-69d1-4372-83f1-faa2abb187a4",
   "metadata": {},
   "source": [
    "## Look up RequestId and Related World_Size:\n",
    "req_id_sr = ['c97aa7e8dade']\n",
    "reqId_filtered_df = step_function_logdata.query('message.str.contains(\"|\".join(@req_id_sr))') \n",
    "# reqId_filtered_df = step_function_logdata.query('message.str.contains(@req_id_sr)')\n",
    "reqId_filtered_df"
   ]
  },
  {
   "cell_type": "raw",
   "id": "021f3299-b5de-4f2f-b7d5-f1ab7acc8546",
   "metadata": {},
   "source": [
    "## Push out to csv if needed.\n",
    "aws_temp_pairdown.to_csv('step_function_ws_24.csv')"
   ]
  },
  {
   "cell_type": "code",
   "execution_count": null,
   "id": "1f628253-c8f5-4fd8-be61-dc2ca3e47d03",
   "metadata": {},
   "outputs": [],
   "source": []
  }
 ],
 "metadata": {
  "kernelspec": {
   "display_name": "Python 3 (ipykernel)",
   "language": "python",
   "name": "python3"
  },
  "language_info": {
   "codemirror_mode": {
    "name": "ipython",
    "version": 3
   },
   "file_extension": ".py",
   "mimetype": "text/x-python",
   "name": "python",
   "nbconvert_exporter": "python",
   "pygments_lexer": "ipython3",
   "version": "3.11.7"
  }
 },
 "nbformat": 4,
 "nbformat_minor": 5
}
