{
 "cells": [
  {
   "cell_type": "markdown",
   "metadata": {
    "vscode": {
     "languageId": "plaintext"
    }
   },
   "source": [
    "* testing the paths on the ipython notebook"
   ]
  },
  {
   "cell_type": "code",
   "execution_count": 3,
   "metadata": {},
   "outputs": [
    {
     "name": "stdout",
     "output_type": "stream",
     "text": [
      "Astronomy_Overview.pptx Plot_Redshift.py        \u001b[1m\u001b[36manomaly_env\u001b[m\u001b[m\n",
      "\u001b[1m\u001b[36mFine_Tune_Model\u001b[m\u001b[m         \u001b[1m\u001b[36mPlots\u001b[m\u001b[m                   \u001b[1m\u001b[36mblocks\u001b[m\u001b[m\n",
      "\u001b[1m\u001b[36mInference\u001b[m\u001b[m               README.md\n",
      "NormalCell.py           \u001b[1m\u001b[36m__pycache__\u001b[m\u001b[m\n"
     ]
    }
   ],
   "source": [
    "# top of the file looking for the libraries to import like plot_reshift\n",
    "# abs paths\n",
    "!ls '/Users/ryan.healy/Desktop/DS_MSDS/DS_Big_Data_Systems_Fall_2024/GROUP_PROJECTS/DS5110_Fall_2024/Team 4/AI-for-Astronomy/code/Anomaly Detection'\n"
   ]
  },
  {
   "cell_type": "code",
   "execution_count": 9,
   "metadata": {},
   "outputs": [
    {
     "name": "stdout",
     "output_type": "stream",
     "text": [
      " 25M\t/Users/ryan.healy/Desktop/DS_MSDS/DS_Big_Data_Systems_Fall_2024/GROUP_PROJECTS/DS5110_Fall_2024/Team 4/AI-for-Astronomy/code/Anomaly Detection/Inference/resized_inference.pt\n"
     ]
    }
   ],
   "source": [
    "# data path\n",
    "!du -h '/Users/ryan.healy/Desktop/DS_MSDS/DS_Big_Data_Systems_Fall_2024/GROUP_PROJECTS/DS5110_Fall_2024/Team 4/AI-for-Astronomy/code/Anomaly Detection/Inference/resized_inference.pt'"
   ]
  },
  {
   "cell_type": "code",
   "execution_count": 10,
   "metadata": {},
   "outputs": [
    {
     "name": "stdout",
     "output_type": "stream",
     "text": [
      "Astronomy_Overview.pptx Plot_Redshift.py        \u001b[1m\u001b[36manomaly_env\u001b[m\u001b[m\n",
      "\u001b[1m\u001b[36mFine_Tune_Model\u001b[m\u001b[m         \u001b[1m\u001b[36mPlots\u001b[m\u001b[m                   \u001b[1m\u001b[36mblocks\u001b[m\u001b[m\n",
      "\u001b[1m\u001b[36mInference\u001b[m\u001b[m               README.md\n",
      "NormalCell.py           \u001b[1m\u001b[36m__pycache__\u001b[m\u001b[m\n"
     ]
    }
   ],
   "source": [
    "# project directory\n",
    "!ls '/Users/ryan.healy/Desktop/DS_MSDS/DS_Big_Data_Systems_Fall_2024/GROUP_PROJECTS/DS5110_Fall_2024/Team 4/AI-for-Astronomy/code/Anomaly Detection'"
   ]
  }
 ],
 "metadata": {
  "kernelspec": {
   "display_name": "PROJECT_venv",
   "language": "python",
   "name": "project_venv"
  },
  "language_info": {
   "codemirror_mode": {
    "name": "ipython",
    "version": 3
   },
   "file_extension": ".py",
   "mimetype": "text/x-python",
   "name": "python",
   "nbconvert_exporter": "python",
   "pygments_lexer": "ipython3",
   "version": "3.11.8"
  }
 },
 "nbformat": 4,
 "nbformat_minor": 2
}
