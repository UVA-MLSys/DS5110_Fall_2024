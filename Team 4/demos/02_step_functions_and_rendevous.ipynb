{
 "cells": [
  {
   "cell_type": "markdown",
   "metadata": {},
   "source": [
    "# Objective\n",
    "\n",
    "recreate what was done on the midterm with the fmi and world sizes, include stuff with the rendevous server, really show any additional setup needed before the actual system"
   ]
  },
  {
   "cell_type": "code",
   "execution_count": 1,
   "metadata": {},
   "outputs": [
    {
     "name": "stdout",
     "output_type": "stream",
     "text": [
      "3.11.8 (v3.11.8:db85d51d3e, Feb  6 2024, 18:02:37) [Clang 13.0.0 (clang-1300.0.29.30)]\n"
     ]
    }
   ],
   "source": [
    "import sys\n",
    "from time import sleep \n",
    "\n",
    "import boto3\n",
    "import yaml\n",
    "import json\n",
    "\n",
    "print(sys.version)"
   ]
  },
  {
   "cell_type": "code",
   "execution_count": 15,
   "metadata": {},
   "outputs": [],
   "source": [
    "with open(\"../keys/aws_credentials.yaml\", \"r\") as f:\n",
    "    credentials = yaml.safe_load(f)\n",
    "\n",
    "\n",
    "# Initialize  -- using session authorization\n",
    "session = boto3.Session(aws_access_key_id=credentials[\"aws_access_key_id\"],\n",
    "                        aws_secret_access_key=credentials[\"aws_secret_access_key\"],\n",
    "                        region_name=credentials[\"region\"])\n",
    "\n",
    "step_function = session.client(\"stepfunctions\", region_name = credentials[\"region\"])"
   ]
  },
  {
   "cell_type": "markdown",
   "metadata": {},
   "source": [
    "## List Available State Machines "
   ]
  },
  {
   "cell_type": "code",
   "execution_count": 27,
   "metadata": {},
   "outputs": [
    {
     "name": "stdout",
     "output_type": "stream",
     "text": [
      "name - Cosmic_AI_Team_One - arn - arn:aws:states:us-east-1:211125778552:stateMachine:Cosmic_AI_Team_One\n",
      "name - DS5110StateMachine2 - arn - arn:aws:states:us-east-1:211125778552:stateMachine:DS5110StateMachine2\n",
      "name - DS5110StateMachine3 - arn - arn:aws:states:us-east-1:211125778552:stateMachine:DS5110StateMachine3\n",
      "name - DS5110StateMachine4 - arn - arn:aws:states:us-east-1:211125778552:stateMachine:DS5110StateMachine4\n",
      "name - DataParallel-CosmicAI - arn - arn:aws:states:us-east-1:211125778552:stateMachine:DataParallel-CosmicAI\n",
      "name - Group2_cosmicai - arn - arn:aws:states:us-east-1:211125778552:stateMachine:Group2_cosmicai\n",
      "name - Group3_CosmicAI - arn - arn:aws:states:us-east-1:211125778552:stateMachine:Group3_CosmicAI\n",
      "name - Group_4_CosmicAI - arn - arn:aws:states:us-east-1:211125778552:stateMachine:Group_4_CosmicAI\n",
      "name - MyStateMachine-Team_1 - arn - arn:aws:states:us-east-1:211125778552:stateMachine:MyStateMachine-Team_1\n",
      "name - MyStateMachine-e5ydt2afc - arn - arn:aws:states:us-east-1:211125778552:stateMachine:MyStateMachine-e5ydt2afc\n",
      "name - cosmicai - arn - arn:aws:states:us-east-1:211125778552:stateMachine:cosmicai\n"
     ]
    }
   ],
   "source": [
    "for res in step_function.list_state_machines()[\"stateMachines\"]:\n",
    "    print(f'name - {res[\"name\"]} - arn - {res[\"stateMachineArn\"]}')"
   ]
  },
  {
   "cell_type": "markdown",
   "metadata": {},
   "source": [
    "## Inspect the State Machine"
   ]
  },
  {
   "cell_type": "code",
   "execution_count": 31,
   "metadata": {},
   "outputs": [
    {
     "data": {
      "text/plain": [
       "{'stateMachineArn': 'arn:aws:states:us-east-1:211125778552:stateMachine:DS5110StateMachine4',\n",
       " 'name': 'DS5110StateMachine4',\n",
       " 'status': 'ACTIVE',\n",
       " 'definition': '{\"Comment\":\"A description of my state machine\",\"StartAt\":\"Lambda init\",\"States\":{\"Lambda init\":{\"Type\":\"Task\",\"Resource\":\"arn:aws:states:::lambda:invoke\",\"OutputPath\":\"$.Payload\",\"Parameters\":{\"FunctionName\":\"arn:aws:lambda:us-east-1:211125778552:function:fmi_init:$LATEST\",\"Payload\":{\"world_size\":\"2\",\"bucket\":\"group4-s3-bucket\",\"script\":\"scripts/fmi-execute-test.py\"}},\"Retry\":[{\"ErrorEquals\":[\"Lambda.ServiceException\",\"Lambda.AWSLambdaException\",\"Lambda.SdkClientException\",\"Lambda.TooManyRequestsException\"],\"IntervalSeconds\":1,\"MaxAttempts\":3,\"BackoffRate\":2}],\"Next\":\"MapState\"},\"MapState\":{\"Type\":\"Map\",\"ResultPath\":\"$.MapOutput\",\"MaxConcurrency\":1000,\"Iterator\":{\"StartAt\":\"ExtractAndInvokeLambda\",\"States\":{\"ExtractAndInvokeLambda\":{\"Type\":\"Pass\",\"InputPath\":\"$\",\"ResultPath\":\"$\",\"Next\":\"Lambda Invoke FMI\"},\"Lambda Invoke FMI\":{\"Type\":\"Task\",\"Resource\":\"arn:aws:states:::lambda:invoke\",\"Parameters\":{\"FunctionName\":\"arn:aws:lambda:us-east-1:211125778552:function:fmi_executor:$LATEST\",\"Payload.$\":\"$\"},\"OutputPath\":\"$.Payload\",\"Retry\":[{\"ErrorEquals\":[\"Lambda.ServiceException\",\"Lambda.AWSLambdaException\",\"Lambda.SdkClientException\",\"Lambda.TooManyRequestsException\"],\"IntervalSeconds\":1,\"MaxAttempts\":3,\"BackoffRate\":2}],\"End\":true}},\"ProcessorConfig\":{\"Mode\":\"DISTRIBUTED\",\"ExecutionType\":\"STANDARD\"}},\"End\":true,\"Label\":\"MapState\",\"ItemsPath\":\"$.body\"}}}',\n",
       " 'roleArn': 'arn:aws:iam::211125778552:role/service-role/StepFunctions-MyStateMachine-e5ydt2afc-role-z0ymrut89',\n",
       " 'type': 'STANDARD',\n",
       " 'creationDate': datetime.datetime(2024, 9, 25, 10, 48, 20, 559000, tzinfo=tzlocal()),\n",
       " 'loggingConfiguration': {'level': 'ALL',\n",
       "  'includeExecutionData': True,\n",
       "  'destinations': [{'cloudWatchLogsLogGroup': {'logGroupArn': 'arn:aws:logs:us-east-1:211125778552:log-group:/aws/vendedlogs/states/DS5110StateMachine4-Logs:*'}}]},\n",
       " 'tracingConfiguration': {'enabled': False},\n",
       " 'revisionId': '45452e2c-2c01-4737-940e-ac30a551a3fc',\n",
       " 'encryptionConfiguration': {'type': 'AWS_OWNED_KEY'},\n",
       " 'ResponseMetadata': {'RequestId': '8da4ef36-edcb-415e-9d17-984ee89eecd2',\n",
       "  'HTTPStatusCode': 200,\n",
       "  'HTTPHeaders': {'x-amzn-requestid': '8da4ef36-edcb-415e-9d17-984ee89eecd2',\n",
       "   'date': 'Thu, 28 Nov 2024 19:12:35 GMT',\n",
       "   'content-type': 'application/x-amz-json-1.0',\n",
       "   'content-length': '2407',\n",
       "   'connection': 'keep-alive'},\n",
       "  'RetryAttempts': 0}}"
      ]
     },
     "execution_count": 31,
     "metadata": {},
     "output_type": "execute_result"
    }
   ],
   "source": [
    "r = step_function.describe_state_machine(\n",
    "    stateMachineArn = STATE_MACHINE_ARN\n",
    ")\n",
    "\n",
    "r"
   ]
  },
  {
   "cell_type": "markdown",
   "metadata": {},
   "source": [
    "## Show Steps"
   ]
  },
  {
   "cell_type": "code",
   "execution_count": 32,
   "metadata": {},
   "outputs": [],
   "source": [
    "STATE_MACHINE_ARN = \"arn:aws:states:us-east-1:211125778552:stateMachine:DS5110StateMachine4\" # DS5110StateMachine4\n",
    "WORLD_SIZE = 2\n",
    "\n",
    "\n",
    "# calls the FMI_script\n",
    "input_payload  = {\n",
    "  \"world_size\": f\"{WORLD_SIZE}\", \n",
    "  \"bucket\": \"group4-s3-bucket\", # where it dumps\n",
    "  \"script\": \"scripts/fmi-execute-test.py\" # given test script\n",
    "}\n",
    "\n",
    "response = step_function.start_execution(\n",
    "    stateMachineArn = STATE_MACHINE_ARN,\n",
    "    input = json.dumps(input_payload)\n",
    ")\n"
   ]
  },
  {
   "cell_type": "code",
   "execution_count": 35,
   "metadata": {},
   "outputs": [
    {
     "data": {
      "text/plain": [
       "{'executionArn': 'arn:aws:states:us-east-1:211125778552:execution:DS5110StateMachine4:4c539633-cbdd-4638-94fb-7a51f7e8677c',\n",
       " 'startDate': datetime.datetime(2024, 11, 28, 14, 13, 24, 308000, tzinfo=tzlocal()),\n",
       " 'ResponseMetadata': {'RequestId': '188989cd-3a1f-4ff1-8404-ddd25894026d',\n",
       "  'HTTPStatusCode': 200,\n",
       "  'HTTPHeaders': {'x-amzn-requestid': '188989cd-3a1f-4ff1-8404-ddd25894026d',\n",
       "   'date': 'Thu, 28 Nov 2024 19:13:24 GMT',\n",
       "   'content-type': 'application/x-amz-json-1.0',\n",
       "   'content-length': '152',\n",
       "   'connection': 'keep-alive'},\n",
       "  'RetryAttempts': 0}}"
      ]
     },
     "execution_count": 35,
     "metadata": {},
     "output_type": "execute_result"
    }
   ],
   "source": [
    "response"
   ]
  },
  {
   "cell_type": "code",
   "execution_count": 39,
   "metadata": {},
   "outputs": [
    {
     "data": {
      "text/plain": [
       "{'executionArn': 'arn:aws:states:us-east-1:211125778552:execution:DS5110StateMachine4:4c539633-cbdd-4638-94fb-7a51f7e8677c',\n",
       " 'stateMachineArn': 'arn:aws:states:us-east-1:211125778552:stateMachine:DS5110StateMachine4',\n",
       " 'name': '4c539633-cbdd-4638-94fb-7a51f7e8677c',\n",
       " 'status': 'SUCCEEDED',\n",
       " 'startDate': datetime.datetime(2024, 11, 28, 14, 13, 24, 308000, tzinfo=tzlocal()),\n",
       " 'stopDate': datetime.datetime(2024, 11, 28, 14, 13, 26, 951000, tzinfo=tzlocal()),\n",
       " 'input': '{\"world_size\": \"2\", \"bucket\": \"group4-s3-bucket\", \"script\": \"scripts/fmi-execute-test.py\"}',\n",
       " 'inputDetails': {'included': True},\n",
       " 'output': '{\"statusCode\":200,\"body\":[{\"S3_BUCKET\":\"group4-s3-bucket\",\"S3_OBJECT_NAME\":\"scripts/fmi-execute-test.py\",\"OUTPUT_FILENAME\":\"/tmp/fmi_test.py\",\"WORLD_SIZE\":\"2\",\"RANK\":\"0\"},{\"S3_BUCKET\":\"group4-s3-bucket\",\"S3_OBJECT_NAME\":\"scripts/fmi-execute-test.py\",\"OUTPUT_FILENAME\":\"/tmp/fmi_test.py\",\"WORLD_SIZE\":\"2\",\"RANK\":\"1\"}],\"MapOutput\":[\"Executed Serverless FMI using Python3.9.19 | packaged by conda-forge | (main, Mar 20 2024, 12:50:21) \\\\n[GCC 12.3.0]! environment: group4-s3-bucket\",\"Executed Serverless FMI using Python3.9.19 | packaged by conda-forge | (main, Mar 20 2024, 12:50:21) \\\\n[GCC 12.3.0]! environment: group4-s3-bucket\"]}',\n",
       " 'outputDetails': {'included': True},\n",
       " 'redriveCount': 0,\n",
       " 'redriveStatus': 'NOT_REDRIVABLE',\n",
       " 'redriveStatusReason': 'Execution is SUCCEEDED and cannot be redriven',\n",
       " 'ResponseMetadata': {'RequestId': '9f0c1067-cb3e-42fa-8d89-cfe71f8cec38',\n",
       "  'HTTPStatusCode': 200,\n",
       "  'HTTPHeaders': {'x-amzn-requestid': '9f0c1067-cb3e-42fa-8d89-cfe71f8cec38',\n",
       "   'date': 'Thu, 28 Nov 2024 19:16:08 GMT',\n",
       "   'content-type': 'application/x-amz-json-1.0',\n",
       "   'content-length': '1485',\n",
       "   'connection': 'keep-alive'},\n",
       "  'RetryAttempts': 0}}"
      ]
     },
     "execution_count": 39,
     "metadata": {},
     "output_type": "execute_result"
    }
   ],
   "source": [
    "step_function.describe_execution(executionArn = response['executionArn'])"
   ]
  },
  {
   "cell_type": "code",
   "execution_count": 41,
   "metadata": {},
   "outputs": [
    {
     "name": "stdout",
     "output_type": "stream",
     "text": [
      "0:00:02.643000\n"
     ]
    }
   ],
   "source": [
    "# show elapsed time\n",
    "output = step_function.describe_execution(executionArn = response['executionArn'])\n",
    "\n",
    "print(output['stopDate'] - output['startDate'])"
   ]
  },
  {
   "cell_type": "markdown",
   "metadata": {},
   "source": [
    "## All Together Now"
   ]
  },
  {
   "cell_type": "code",
   "execution_count": 46,
   "metadata": {},
   "outputs": [
    {
     "data": {
      "text/plain": [
       "[2, 10, 18, 26, 34, 42, 50, 58]"
      ]
     },
     "execution_count": 46,
     "metadata": {},
     "output_type": "execute_result"
    }
   ],
   "source": [
    "world_sizes = [num for num in range(2,60, 8)] # jumping every 8 need\n",
    "\n",
    "world_sizes"
   ]
  },
  {
   "cell_type": "code",
   "execution_count": 47,
   "metadata": {},
   "outputs": [],
   "source": []
  },
  {
   "cell_type": "code",
   "execution_count": 65,
   "metadata": {},
   "outputs": [],
   "source": [
    "def run_fmi_step_function(world_size :int = WORLD_SIZE) -> int:\n",
    "    \"\"\"runs the FMI step function with a variable world size and gives the output\"\"\"\n",
    "\n",
    "    STATE_MACHINE_ARN = \"arn:aws:states:us-east-1:211125778552:stateMachine:DS5110StateMachine4\" # DS5110StateMachine4\n",
    "\n",
    "    # calls the FMI_script\n",
    "    input_payload  = {\n",
    "    \"world_size\": f\"{world_size}\",\n",
    "    \"bucket\": \"group4-s3-bucket\", # where it dumps\n",
    "    \"script\": \"scripts/fmi-execute-test.py\" # given test script\n",
    "    }\n",
    "\n",
    "    response = step_function.start_execution(\n",
    "        stateMachineArn = STATE_MACHINE_ARN,\n",
    "        input = json.dumps(input_payload)\n",
    "    )\n",
    "\n",
    "    print(response)\n",
    "\n",
    "    sleep(10)\n",
    "    print(response['executionArn'])\n",
    "    output = step_function.describe_execution(executionArn = response['executionArn'])\n",
    "\n",
    "    print(output)\n",
    "    time_for_run = output['stopDate'] - output['startDate']\n",
    "\n",
    "    print(f\"world size {world_size} - time {time_for_run}\")\n",
    "    return time_for_run\n",
    "\n"
   ]
  },
  {
   "cell_type": "code",
   "execution_count": 66,
   "metadata": {},
   "outputs": [
    {
     "name": "stdout",
     "output_type": "stream",
     "text": [
      "{'executionArn': 'arn:aws:states:us-east-1:211125778552:execution:DS5110StateMachine4:67ddb9e8-4c38-458a-acc8-a7b221465976', 'startDate': datetime.datetime(2024, 11, 28, 15, 13, 56, 420000, tzinfo=tzlocal()), 'ResponseMetadata': {'RequestId': '34714451-8514-4341-beff-9870b4717e32', 'HTTPStatusCode': 200, 'HTTPHeaders': {'x-amzn-requestid': '34714451-8514-4341-beff-9870b4717e32', 'date': 'Thu, 28 Nov 2024 20:13:56 GMT', 'content-type': 'application/x-amz-json-1.0', 'content-length': '151', 'connection': 'keep-alive'}, 'RetryAttempts': 0}}\n",
      "arn:aws:states:us-east-1:211125778552:execution:DS5110StateMachine4:67ddb9e8-4c38-458a-acc8-a7b221465976\n",
      "{'executionArn': 'arn:aws:states:us-east-1:211125778552:execution:DS5110StateMachine4:67ddb9e8-4c38-458a-acc8-a7b221465976', 'stateMachineArn': 'arn:aws:states:us-east-1:211125778552:stateMachine:DS5110StateMachine4', 'name': '67ddb9e8-4c38-458a-acc8-a7b221465976', 'status': 'SUCCEEDED', 'startDate': datetime.datetime(2024, 11, 28, 15, 13, 56, 420000, tzinfo=tzlocal()), 'stopDate': datetime.datetime(2024, 11, 28, 15, 13, 59, 732000, tzinfo=tzlocal()), 'input': '{\"world_size\": \"10\", \"bucket\": \"group4-s3-bucket\", \"script\": \"scripts/fmi-execute-test.py\"}', 'inputDetails': {'included': True}, 'output': '{\"statusCode\":200,\"body\":[{\"S3_BUCKET\":\"group4-s3-bucket\",\"S3_OBJECT_NAME\":\"scripts/fmi-execute-test.py\",\"OUTPUT_FILENAME\":\"/tmp/fmi_test.py\",\"WORLD_SIZE\":\"10\",\"RANK\":\"0\"},{\"S3_BUCKET\":\"group4-s3-bucket\",\"S3_OBJECT_NAME\":\"scripts/fmi-execute-test.py\",\"OUTPUT_FILENAME\":\"/tmp/fmi_test.py\",\"WORLD_SIZE\":\"10\",\"RANK\":\"1\"},{\"S3_BUCKET\":\"group4-s3-bucket\",\"S3_OBJECT_NAME\":\"scripts/fmi-execute-test.py\",\"OUTPUT_FILENAME\":\"/tmp/fmi_test.py\",\"WORLD_SIZE\":\"10\",\"RANK\":\"2\"},{\"S3_BUCKET\":\"group4-s3-bucket\",\"S3_OBJECT_NAME\":\"scripts/fmi-execute-test.py\",\"OUTPUT_FILENAME\":\"/tmp/fmi_test.py\",\"WORLD_SIZE\":\"10\",\"RANK\":\"3\"},{\"S3_BUCKET\":\"group4-s3-bucket\",\"S3_OBJECT_NAME\":\"scripts/fmi-execute-test.py\",\"OUTPUT_FILENAME\":\"/tmp/fmi_test.py\",\"WORLD_SIZE\":\"10\",\"RANK\":\"4\"},{\"S3_BUCKET\":\"group4-s3-bucket\",\"S3_OBJECT_NAME\":\"scripts/fmi-execute-test.py\",\"OUTPUT_FILENAME\":\"/tmp/fmi_test.py\",\"WORLD_SIZE\":\"10\",\"RANK\":\"5\"},{\"S3_BUCKET\":\"group4-s3-bucket\",\"S3_OBJECT_NAME\":\"scripts/fmi-execute-test.py\",\"OUTPUT_FILENAME\":\"/tmp/fmi_test.py\",\"WORLD_SIZE\":\"10\",\"RANK\":\"6\"},{\"S3_BUCKET\":\"group4-s3-bucket\",\"S3_OBJECT_NAME\":\"scripts/fmi-execute-test.py\",\"OUTPUT_FILENAME\":\"/tmp/fmi_test.py\",\"WORLD_SIZE\":\"10\",\"RANK\":\"7\"},{\"S3_BUCKET\":\"group4-s3-bucket\",\"S3_OBJECT_NAME\":\"scripts/fmi-execute-test.py\",\"OUTPUT_FILENAME\":\"/tmp/fmi_test.py\",\"WORLD_SIZE\":\"10\",\"RANK\":\"8\"},{\"S3_BUCKET\":\"group4-s3-bucket\",\"S3_OBJECT_NAME\":\"scripts/fmi-execute-test.py\",\"OUTPUT_FILENAME\":\"/tmp/fmi_test.py\",\"WORLD_SIZE\":\"10\",\"RANK\":\"9\"}],\"MapOutput\":[\"Executed Serverless FMI using Python3.9.19 | packaged by conda-forge | (main, Mar 20 2024, 12:50:21) \\\\n[GCC 12.3.0]! environment: group4-s3-bucket\",\"Executed Serverless FMI using Python3.9.19 | packaged by conda-forge | (main, Mar 20 2024, 12:50:21) \\\\n[GCC 12.3.0]! environment: group4-s3-bucket\",\"Executed Serverless FMI using Python3.9.19 | packaged by conda-forge | (main, Mar 20 2024, 12:50:21) \\\\n[GCC 12.3.0]! environment: group4-s3-bucket\",\"Executed Serverless FMI using Python3.9.19 | packaged by conda-forge | (main, Mar 20 2024, 12:50:21) \\\\n[GCC 12.3.0]! environment: group4-s3-bucket\",\"Executed Serverless FMI using Python3.9.19 | packaged by conda-forge | (main, Mar 20 2024, 12:50:21) \\\\n[GCC 12.3.0]! environment: group4-s3-bucket\",\"Executed Serverless FMI using Python3.9.19 | packaged by conda-forge | (main, Mar 20 2024, 12:50:21) \\\\n[GCC 12.3.0]! environment: group4-s3-bucket\",\"Executed Serverless FMI using Python3.9.19 | packaged by conda-forge | (main, Mar 20 2024, 12:50:21) \\\\n[GCC 12.3.0]! environment: group4-s3-bucket\",\"Executed Serverless FMI using Python3.9.19 | packaged by conda-forge | (main, Mar 20 2024, 12:50:21) \\\\n[GCC 12.3.0]! environment: group4-s3-bucket\",\"Executed Serverless FMI using Python3.9.19 | packaged by conda-forge | (main, Mar 20 2024, 12:50:21) \\\\n[GCC 12.3.0]! environment: group4-s3-bucket\",\"Executed Serverless FMI using Python3.9.19 | packaged by conda-forge | (main, Mar 20 2024, 12:50:21) \\\\n[GCC 12.3.0]! environment: group4-s3-bucket\"]}', 'outputDetails': {'included': True}, 'redriveCount': 0, 'redriveStatus': 'NOT_REDRIVABLE', 'redriveStatusReason': 'Execution is SUCCEEDED and cannot be redriven', 'ResponseMetadata': {'RequestId': '61ca943f-dff4-4dfc-9402-af54b7198bdc', 'HTTPStatusCode': 200, 'HTTPHeaders': {'x-amzn-requestid': '61ca943f-dff4-4dfc-9402-af54b7198bdc', 'date': 'Thu, 28 Nov 2024 20:14:06 GMT', 'content-type': 'application/x-amz-json-1.0', 'content-length': '4031', 'connection': 'keep-alive'}, 'RetryAttempts': 0}}\n",
      "world size 10 - time 0:00:03.312000\n"
     ]
    },
    {
     "data": {
      "text/plain": [
       "datetime.timedelta(seconds=3, microseconds=312000)"
      ]
     },
     "execution_count": 66,
     "metadata": {},
     "output_type": "execute_result"
    }
   ],
   "source": [
    "run_fmi_step_function(10)"
   ]
  },
  {
   "cell_type": "code",
   "execution_count": 60,
   "metadata": {},
   "outputs": [
    {
     "name": "stdout",
     "output_type": "stream",
     "text": [
      "arn:aws:states:us-east-1:211125778552:execution:DS5110StateMachine4:ade57b7e-bf9d-454b-b4f3-96577694ffbe\n",
      "world size 100 - time 0:00:02.996000\n"
     ]
    },
    {
     "data": {
      "text/plain": [
       "datetime.timedelta(seconds=2, microseconds=996000)"
      ]
     },
     "execution_count": 60,
     "metadata": {},
     "output_type": "execute_result"
    }
   ],
   "source": [
    "## TODO figure out how to alter the fmi scripts"
   ]
  }
 ],
 "metadata": {
  "kernelspec": {
   "display_name": "PROJECT_venv",
   "language": "python",
   "name": "project_venv"
  },
  "language_info": {
   "codemirror_mode": {
    "name": "ipython",
    "version": 3
   },
   "file_extension": ".py",
   "mimetype": "text/x-python",
   "name": "python",
   "nbconvert_exporter": "python",
   "pygments_lexer": "ipython3",
   "version": "3.11.8"
  }
 },
 "nbformat": 4,
 "nbformat_minor": 2
}
